{
 "cells": [
  {
   "cell_type": "markdown",
   "metadata": {},
   "source": [
    "# EMPLOYEE MANAGEMENT SYSTEM"
   ]
  },
  {
   "cell_type": "code",
   "execution_count": 1,
   "metadata": {
    "collapsed": true
   },
   "outputs": [],
   "source": [
    "import pymysql as sql"
   ]
  },
  {
   "cell_type": "code",
   "execution_count": 2,
   "metadata": {},
   "outputs": [
    {
     "name": "stdout",
     "output_type": "stream",
     "text": [
      "<pymysql.connections.Connection object at 0x000001A8508A30F0>\n"
     ]
    }
   ],
   "source": [
    "import pymysql as sql   #this code is also for connectivity but not the efficient way hence try catch code\n",
    "\n",
    "db = sql.connect(\"localhost\",\"root\",\"\",\"company\")\n",
    "print(db)"
   ]
  },
  {
   "cell_type": "code",
   "execution_count": 3,
   "metadata": {
    "collapsed": true
   },
   "outputs": [],
   "source": [
    "def getDBConnection(ip = \"localhost\",usern = \"root\", passn =\"\", dbname=\"company\"):\n",
    "    try:\n",
    "        import pymysql as sql\n",
    "        db = sql.connect(ip,usern,passn,dbname)\n",
    "        cursor=db.cursor()      #cursor is used for execution of my queries on database\n",
    "    except BaseException as e:\n",
    "        print(e)\n",
    "    else:\n",
    "        print(\"DB connection successful!!!\")\n",
    "        return db,cursor"
   ]
  },
  {
   "cell_type": "code",
   "execution_count": 4,
   "metadata": {},
   "outputs": [
    {
     "name": "stdout",
     "output_type": "stream",
     "text": [
      "DB connection successful!!!\n"
     ]
    },
    {
     "data": {
      "text/plain": [
       "(<pymysql.connections.Connection at 0x1a8508d4c88>,\n",
       " <pymysql.cursors.Cursor at 0x1a8508d4e10>)"
      ]
     },
     "execution_count": 4,
     "metadata": {},
     "output_type": "execute_result"
    }
   ],
   "source": [
    "getDBConnection()"
   ]
  },
  {
   "cell_type": "code",
   "execution_count": 5,
   "metadata": {
    "collapsed": true
   },
   "outputs": [],
   "source": [
    "def createTable():\n",
    "    try:\n",
    "        db,cursor = getDBConnection()\n",
    "        sql_cmd = \"create table manager(id int primary key auto_increment, username varchar (200))\"\n",
    "        cursor.execute(sql_cmd)\n",
    "    except BaseException as e:\n",
    "        print(e)\n",
    "        db.rollback()\n",
    "    else:\n",
    "        db.commit()\n",
    "        print(\"Table has been successfully created\")\n",
    "    finally:\n",
    "        db.close()"
   ]
  },
  {
   "cell_type": "code",
   "execution_count": 6,
   "metadata": {},
   "outputs": [
    {
     "name": "stdout",
     "output_type": "stream",
     "text": [
      "DB connection successful!!!\n",
      "Table has been successfully created\n"
     ]
    }
   ],
   "source": [
    "createTable()"
   ]
  },
  {
   "cell_type": "code",
   "execution_count": 7,
   "metadata": {
    "collapsed": true
   },
   "outputs": [],
   "source": [
    "def createTable():\n",
    "    try:\n",
    "        db,cursor = getDBConnection()\n",
    "        sql_cmd = \"create table employee(id int primary key auto_increment, username varchar (200))\"\n",
    "        cursor.execute(sql_cmd)\n",
    "    except BaseException as e:\n",
    "        print(e)\n",
    "        db.rollback()\n",
    "    else:\n",
    "        db.commit()\n",
    "        print(\"Table has been successfully created\")\n",
    "    finally:\n",
    "        db.close()"
   ]
  },
  {
   "cell_type": "code",
   "execution_count": 8,
   "metadata": {},
   "outputs": [
    {
     "name": "stdout",
     "output_type": "stream",
     "text": [
      "DB connection successful!!!\n",
      "Table has been successfully created\n"
     ]
    }
   ],
   "source": [
    "createTable()"
   ]
  },
  {
   "cell_type": "code",
   "execution_count": 11,
   "metadata": {},
   "outputs": [
    {
     "name": "stdout",
     "output_type": "stream",
     "text": [
      "DB connection successful!!!\n",
      "Record has been inserted successfully!!\n",
      "DB connection successful!!!\n",
      "The record has been delected!!\n",
      "DB connection successful!!!\n",
      "Record has been inserted successfully!!\n",
      "DB connection successful!!!\n",
      "EMPNAME=varun\n"
     ]
    }
   ],
   "source": [
    "from tkinter import *\n",
    "from tkinter import messagebox\n",
    "import pymysql as sql\n",
    "\n",
    "\n",
    "def insertOp(empName):\n",
    "    try:\n",
    "        uname = empName\n",
    "        db,cursor = getDBConnection()\n",
    "        sql_cmd = \"insert into employee(username) values('{}')\".format(uname)\n",
    "        cursor.execute(sql_cmd)\n",
    "    except BaseException as e:\n",
    "        print(e)\n",
    "        db.rollback()\n",
    "        msg=messagebox.showinfo(\"Info\",\"Error in upload\")\n",
    "    else:\n",
    "        db.commit()\n",
    "        if(cursor.rowcount>0):\n",
    "            print(\"Record has been inserted successfully!!\")\n",
    "    finally:\n",
    "        db.close()\n",
    "       \n",
    "        \n",
    "def insert1():\n",
    "    user = entry1.get()\n",
    "    insertOp(empName = user)\n",
    "\n",
    "\n",
    "\n",
    "def deleteRecord(empName):\n",
    "    try:\n",
    "        uname=empName\n",
    "        db,cursor = getDBConnection()\n",
    "        \n",
    "        sql_cmd = \"delete from employee where username like'%{}%'\".format(uname)\n",
    "        cursor.execute(sql_cmd)\n",
    "    except BaseException as e:\n",
    "        print(e)\n",
    "        db.rollback\n",
    "    else:\n",
    "        db.commit()\n",
    "        if cursor.rowcount>0:\n",
    "            print(\"The record has been delected!!\")\n",
    "        else:\n",
    "            print(\"No record found of the name {}!!\".format(uname))\n",
    "    finally:\n",
    "        db.close()\n",
    "       \n",
    "        \n",
    "        \n",
    "def exit():\n",
    "    user = entry2.get()\n",
    "    deleteRecord(empName = user)\n",
    "    \n",
    "   \n",
    "    \n",
    "def insertOpt(mangName):\n",
    "    try:\n",
    "        uname=mangName\n",
    "       \n",
    "      \n",
    "        db,cursor = getDBConnection()\n",
    "        sql_cmd = \"insert into manager(username) values('{}')\".format(uname)\n",
    "        cursor.execute(sql_cmd)\n",
    "    except BaseException as e:\n",
    "        print(e)\n",
    "        db.rollback()\n",
    "        msg=messagebox.showinfo(\"Info\",\"Error in upload\")\n",
    "    else:\n",
    "        db.commit()\n",
    "        if(cursor.rowcount>0):\n",
    "            print(\"Record has been inserted successfully!!\")\n",
    "    finally:\n",
    "        db.close()\n",
    "          \n",
    "        \n",
    "def insert2():\n",
    "    user = entry3.get()\n",
    "    insertOpt(mangName = user)\n",
    "    \n",
    "def selecttop(): \n",
    "    try:\n",
    "        \n",
    "        db,cursor = getDBConnection()\n",
    "        sql_cmd = \"SELECT * FROM employee\"\n",
    "        cursor.execute(sql_cmd)\n",
    "        \n",
    "        #Fetch all the rows in a list of lists\n",
    "        \n",
    "        results = cursor.fetchall()\n",
    "        for row in results:\n",
    "            empName = row[1]\n",
    "            print(\"EMPNAME=%s\"% (empName))\n",
    "        \n",
    "    except:\n",
    "        print(\"Error: unable to fetch data\")\n",
    "        \n",
    "    finally:\n",
    "        db.close()\n",
    "    \n",
    "    \n",
    "root=Tk()\n",
    "root.geometry(\"300x250\")\n",
    "root.title(\"Employee\")\n",
    "root.iconbitmap('favicon.ico')\n",
    "label5=Label(root,text='EMPLOYEE MANAGEMENT SYSTEM')\n",
    "label5.pack()\n",
    "label5.config(justify = CENTER)\n",
    "#Adding the employee\n",
    "label1=Label(root,text='Name employee to be added: ')\n",
    "label1.pack()\n",
    "label1.config(justify = CENTER)\n",
    "\n",
    "entry1 = Entry(root,width=30)\n",
    "entry1.pack()\n",
    "\n",
    "button1=Button(root,text='ADD',activebackground=\"Yellow\",activeforeground=\"Red\")\n",
    "button1.pack()\n",
    "button1.config(command=insert1)\n",
    "\n",
    "#Removing the Employee\n",
    "label3=Label(root,text='Name employee to be removed')\n",
    "label3.pack()\n",
    "label3.config(justify = CENTER)\n",
    "\n",
    "entry2 = Entry(root,width=30)\n",
    "entry2.pack()\n",
    "\n",
    "button1=Button(root,text='REMOVE',activebackground=\"Yellow\",activeforeground=\"Red\")\n",
    "button1.pack()\n",
    "button1.config(command=exit)\n",
    "\n",
    "\n",
    "#Add manager\n",
    "label4=Label(root,text='Name the manager to be added')\n",
    "label4.pack()\n",
    "label4.config(justify = CENTER)\n",
    "\n",
    "entry3 = Entry(root,width=30)\n",
    "entry3.pack()\n",
    "\n",
    "button1=Button(root,text='ADD manager',activebackground=\"Yellow\",activeforeground=\"Red\")\n",
    "button1.pack()\n",
    "button1.config(command=insert2)\n",
    "\n",
    "button1=Button(root,text='Display',activebackground=\"Yellow\",activeforeground=\"Red\")\n",
    "button1.pack()\n",
    "button1.config(command=selecttop)\n",
    "\n",
    "root.mainloop()\n",
    "\n"
   ]
  }
 ],
 "metadata": {
  "kernelspec": {
   "display_name": "Python 3",
   "language": "python",
   "name": "python3"
  },
  "language_info": {
   "codemirror_mode": {
    "name": "ipython",
    "version": 3
   },
   "file_extension": ".py",
   "mimetype": "text/x-python",
   "name": "python",
   "nbconvert_exporter": "python",
   "pygments_lexer": "ipython3",
   "version": "3.6.1"
  }
 },
 "nbformat": 4,
 "nbformat_minor": 2
}
