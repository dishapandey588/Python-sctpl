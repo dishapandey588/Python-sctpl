{
 "cells": [
  {
   "cell_type": "markdown",
   "metadata": {},
   "source": [
    "# ASSIGNMENTS "
   ]
  },
  {
   "cell_type": "markdown",
   "metadata": {},
   "source": [
    "# restaurant billing system"
   ]
  },
  {
   "cell_type": "code",
   "execution_count": null,
   "metadata": {},
   "outputs": [
    {
     "name": "stdout",
     "output_type": "stream",
     "text": [
      "Enter your choice:1\n",
      "Enter your table no. :2\n",
      "Enter the number of people at table:2\n",
      "Enter meal:3\n",
      "Enter water:1\n",
      "Enter desserts:2\n",
      "Enter meal:1\n",
      "Enter water:4\n",
      "Enter desserts:1\n",
      "currentbill amount is: 12\n",
      "totalbill amount is 13.08\n",
      "Do you have a coupon (1/2):1\n",
      "Coupon Cost : 3\n",
      "total discount: 3\n",
      "your final bill is 10.08\n",
      "Enter your choice:2\n"
     ]
    }
   ],
   "source": [
    "while (True):\n",
    "    currentbill,i = 0,1\n",
    "    choice=int(input(\"Enter your choice:\"))\n",
    "    if(choice==1):\n",
    "        tableno=int(input(\"Enter your table no. :\"))\n",
    "        numperson=int(input(\"Enter the number of people at table:\"))\n",
    "        while i<= numperson:\n",
    "            meal=int(input(\"Enter meal:\"))\n",
    "            water=int(input(\"Enter water:\"))\n",
    "            dessert=int(input(\"Enter desserts:\"))\n",
    "            currentbill=currentbill+meal+water+dessert\n",
    "            i = i +1\n",
    "        print(\"currentbill amount is:\", currentbill)\n",
    "\n",
    "        if(currentbill>1000):\n",
    "            GST=currentbill*0.18\n",
    "            totalbill=GST + currentbill\n",
    "            print(\"totalbill amount is\", totalbill)\n",
    "        elif(currentbill<1000):\n",
    "            GST=currentbill*0.09\n",
    "            totalbill=GST + currentbill\n",
    "            print(\"totalbill amount is\", totalbill)\n",
    "        else:\n",
    "            GST=currentbill*0.05\n",
    "            totalbill=GST + currentbill\n",
    "            print(\"totalbill amount is\", totalbill)\n",
    "            \n",
    "        coupon=int(input(\"Do you have a coupon (1/2):\"))  \n",
    "        if(coupon==1):\n",
    "            discount=int(input(\"Coupon Cost : \"))\n",
    "            print(\"total discount:\" , discount)\n",
    "            finalbill=totalbill-discount\n",
    "            print(\"your final bill is\", finalbill)\n",
    "        else:\n",
    "            break  \n",
    "print(\"Thankyou...Visit Again\")\n",
    "                \n",
    "    "
   ]
  },
  {
   "cell_type": "markdown",
   "metadata": {},
   "source": [
    "# Palindrome"
   ]
  },
  {
   "cell_type": "code",
   "execution_count": null,
   "metadata": {},
   "outputs": [
    {
     "name": "stdout",
     "output_type": "stream",
     "text": [
      "Check whether palindrome or not!\n",
      "Enter a string:   Hannah\n",
      "Yes! The given string is a palindrome.\n",
      "Check whether palindrome or not!\n",
      "Enter a string:   hannah\n",
      "Yes! The given string is a palindrome.\n",
      "Check whether palindrome or not!\n",
      "Enter a string:   Eva can I stab bats in a cave\n",
      "Yes! The given string is a palindrome.\n",
      "Check whether palindrome or not!\n",
      "Enter a string:   hello madam\n",
      "No! The given string is not a palindrome.\n",
      "Check whether palindrome or not!\n"
     ]
    }
   ],
   "source": [
    "while (True):\n",
    "    print(\"Check whether palindrome or not!\")\n",
    "    text=str(input(\"Enter a string:   \"))\n",
    "    text1 = (text.lower())\n",
    "    text2 = (\"\".join(text1.split(\" \")))\n",
    "    a = (text2)\n",
    "    \n",
    "    b = a[::-1]\n",
    "    if (b==a):\n",
    "        print(\"Yes! The given string is a palindrome.\")\n",
    "    else:\n",
    "        print(\"No! The given string is not a palindrome.\")"
   ]
  },
  {
   "cell_type": "markdown",
   "metadata": {},
   "source": [
    "# Tignometry"
   ]
  },
  {
   "cell_type": "code",
   "execution_count": 1,
   "metadata": {},
   "outputs": [
    {
     "name": "stdout",
     "output_type": "stream",
     "text": [
      "math.sin(90):  0.8939966636005579\n",
      "math.cos(90):  -0.4480736161291701\n",
      "math.tan(90):  -1.995200412208242\n"
     ]
    }
   ],
   "source": [
    "import math\n",
    "print (\"math.sin(90): \", math.sin(90))\n",
    "print (\"math.cos(90): \", math.cos(90))\n",
    "print (\"math.tan(90): \", math.tan(90))"
   ]
  },
  {
   "cell_type": "markdown",
   "metadata": {},
   "source": [
    "# Encryption & Decryption"
   ]
  },
  {
   "cell_type": "code",
   "execution_count": null,
   "metadata": {},
   "outputs": [
    {
     "name": "stdout",
     "output_type": "stream",
     "text": [
      "Welcome!...Make a choice\n",
      "Select 1. encryption 2. decryption:   1\n",
      "Enter your name to be encrypted:    disha\n",
      "Encrypted data for disha is:      $(>*!\n",
      "Thankyou!...\n",
      "Welcome!...Make a choice\n",
      "Select 1. encryption 2. decryption:   2\n",
      "Enter your name to be decrypted:   !@#$\n",
      "Decrypted data for !@#$ is:      abcd\n",
      "Thankyou!...\n",
      "Welcome!...Make a choice\n"
     ]
    }
   ],
   "source": [
    "\n",
    "while(True):\n",
    "\n",
    "\n",
    "    print(\"Welcome!...Make a choice\")\n",
    "    choice = int(input(\"Select 1. encryption 2. decryption:   \"))\n",
    "    \n",
    "    if (choice==1):\n",
    "\n",
    "        #Basic Encrypion method\n",
    "        secret_key = \"abcdefghijklmnopqrstuvwxyz\"\n",
    "        enc_key = \"!@#$%^&*()_-{}:.'<>?,[]|+=\"\n",
    "        enc_table = \"\".maketrans(secret_key,enc_key)\n",
    "       \n",
    "    \n",
    "    \n",
    "\n",
    "        txt = str(input(\"Enter your name to be encrypted:    \"))\n",
    "        enc_text = txt.translate(enc_table)\n",
    "        print(\"Encrypted data for \"   +txt+   \" is:     \" , enc_text)\n",
    "    elif(choice==2):\n",
    "        #decryption\n",
    "        dec_table = \"\".maketrans(enc_key,secret_key)\n",
    "      \n",
    "    \n",
    "        txt = str(input(\"Enter your name to be decrypted:   \"))\n",
    "        dec_text = txt.translate(dec_table)\n",
    "        print(\"Decrypted data for \"   +txt+   \" is:     \" , dec_text)\n",
    "    else:\n",
    "        print(\"Invalid Input\")\n",
    "    \n",
    "        \n",
    "    \n",
    "    print(\"Thankyou!...\")  "
   ]
  },
  {
   "cell_type": "markdown",
   "metadata": {},
   "source": [
    "# Search & Replace"
   ]
  },
  {
   "cell_type": "code",
   "execution_count": 2,
   "metadata": {},
   "outputs": [
    {
     "name": "stdout",
     "output_type": "stream",
     "text": [
      "1. Insert Paragraph \t 2. Search \t 3. Replace  \t4. Show recent searches\t 5. Show recent replaces\t 6. Exit\n",
      "Select a choice 1\n",
      "Insert Paragraph:    HIe myname  id Disha. HEllo Disha\n",
      "Select a choice 2\n",
      "Enter string to be searched:   myname\n",
      "The index position of your string searched is:     5\n",
      "Select a choice 3\n",
      "Enter string to be replaced:  Disha\n",
      "Enter the word to be replaced with:   Nidhi\n",
      " HIe myname  id Nidhi. HEllo Nidhi\n",
      "Select a choice 4\n",
      "Display all recent searches:   myname\n",
      "Select a choice 5\n",
      "Display all recent replaces:   ('Disha', ' is replaced with ', 'Nidhi')\n",
      "Select a choice 6\n",
      "Exit\n",
      "Select a choice 9\n",
      "Enter valid choice\n"
     ]
    }
   ],
   "source": [
    "print(\"1. Insert Paragraph \\t 2. Search \\t 3. Replace  \\t4. Show recent searches\\t 5. Show recent replaces\\t 6. Exit\")\n",
    "while(True):\n",
    "    \n",
    "    choice = (input(\"Select a choice \"))\n",
    "    \n",
    "    if (choice == \"1\"):\n",
    "        aa = (input(\"Insert Paragraph:   \"))\n",
    "    elif (choice == \"2\"):\n",
    "        bb = (input(\"Enter string to be searched:   \"))\n",
    "        a = (aa.find(bb))\n",
    "        allsearches = (bb)\n",
    "        print(\"The index position of your string searched is:    \", a)\n",
    "    elif (choice == \"3\"):\n",
    "        cc =(input(\"Enter string to be replaced:  \" ))\n",
    "        c = (input(\"Enter the word to be replaced with:   \"))\n",
    "        print(aa.replace(cc,c))\n",
    "    elif (choice == \"4\"):\n",
    "        print(\"Display all recent searches:  \", allsearches)\n",
    "    elif (choice == \"5\"):\n",
    "        allreplaces = ( cc ,' is replaced with ', c)\n",
    "        print(\"Display all recent replaces:  \", allreplaces)\n",
    "    elif (choice == \"6\"):\n",
    "        print(\"Exit\")\n",
    "    else:\n",
    "        print(\"Enter valid choice\")\n",
    "        break"
   ]
  }
 ],
 "metadata": {
  "kernelspec": {
   "display_name": "Python 3",
   "language": "python",
   "name": "python3"
  },
  "language_info": {
   "codemirror_mode": {
    "name": "ipython",
    "version": 3
   },
   "file_extension": ".py",
   "mimetype": "text/x-python",
   "name": "python",
   "nbconvert_exporter": "python",
   "pygments_lexer": "ipython3",
   "version": "3.6.1"
  }
 },
 "nbformat": 4,
 "nbformat_minor": 2
}
